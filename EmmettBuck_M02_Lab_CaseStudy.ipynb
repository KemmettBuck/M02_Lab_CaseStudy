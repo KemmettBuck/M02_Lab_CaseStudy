{
 "cells": [
  {
   "cell_type": "code",
   "execution_count": 1,
   "id": "a13d4223",
   "metadata": {},
   "outputs": [
    {
     "name": "stdout",
     "output_type": "stream",
     "text": [
      "Enter student's last name: Jupiter\n",
      "Enter student's first name: Star\n",
      "Enter a student's GPA: 3.33\n",
      "Student has made the Honor Roll.\n"
     ]
    }
   ],
   "source": [
    "# Program name: EmmettBuck_Kira_M02-Lab\n",
    "# Author: Kira Emmett Buck\n",
    "# Date: 6/17/2022\n",
    "# Summary: Accept student names and GPAs and test if student qualifies\n",
    "#   for Dean's List or Honor Roll\n",
    "# Variables:\n",
    "#   lname: student's last name (str)\n",
    "#   fname: student's first name (str)\n",
    "#   GPA: student's GPA (float)\n",
    "\n",
    "lname = input(\"Enter student's last name: \")\n",
    "while lname == \"ZZZ\":\n",
    "    print(\"Error... please enter a valid last name\")\n",
    "    exit() \n",
    "else:\n",
    "    pass\n",
    "\n",
    "fname = input(\"Enter student's first name: \")\n",
    "GPA = float(input(\"Enter a student's GPA: \"))\n",
    "\n",
    "if GPA >= 3.5:\n",
    "    print(\"Student has made the Dean's List.\")\n",
    "elif GPA >= 3.25:\n",
    "    print(\"Student has made the Honor Roll.\")"
   ]
  },
  {
   "cell_type": "code",
   "execution_count": 2,
   "id": "68cff7f6",
   "metadata": {},
   "outputs": [
    {
     "name": "stdout",
     "output_type": "stream",
     "text": [
      "Enter student's last name: Gibbs\n",
      "Enter student's first name: Sasha\n",
      "Enter a student's GPA: 3.74\n",
      "Student has made the Dean's List.\n"
     ]
    }
   ],
   "source": [
    "# Program name: EmmettBuck_Kira_M02-Lab\n",
    "# Author: Kira Emmett Buck\n",
    "# Date: 6/17/2022\n",
    "# Summary: Accept student names and GPAs and test if student qualifies\n",
    "#   for Dean's List or Honor Roll\n",
    "# Variables:\n",
    "#   lname: student's last name (str)\n",
    "#   fname: student's first name (str)\n",
    "#   GPA: student's GPA (float)\n",
    "\n",
    "lname = input(\"Enter student's last name: \")\n",
    "while lname == \"ZZZ\":\n",
    "    print(\"Error... please enter a valid last name\")\n",
    "    exit() \n",
    "else:\n",
    "    pass\n",
    "\n",
    "fname = input(\"Enter student's first name: \")\n",
    "GPA = float(input(\"Enter a student's GPA: \"))\n",
    "\n",
    "if GPA >= 3.5:\n",
    "    print(\"Student has made the Dean's List.\")\n",
    "elif GPA >= 3.25:\n",
    "    print(\"Student has made the Honor Roll.\")"
   ]
  },
  {
   "cell_type": "code",
   "execution_count": 3,
   "id": "da376de7",
   "metadata": {},
   "outputs": [
    {
     "name": "stdout",
     "output_type": "stream",
     "text": [
      "Enter student's last name: Hess\n",
      "Enter student's first name: Kristi\n",
      "Enter a student's GPA: 3.22\n"
     ]
    }
   ],
   "source": [
    "# Program name: EmmettBuck_Kira_M02-Lab\n",
    "# Author: Kira Emmett Buck\n",
    "# Date: 6/17/2022\n",
    "# Summary: Accept student names and GPAs and test if student qualifies\n",
    "#   for Dean's List or Honor Roll\n",
    "# Variables:\n",
    "#   lname: student's last name (str)\n",
    "#   fname: student's first name (str)\n",
    "#   GPA: student's GPA (float)\n",
    "\n",
    "lname = input(\"Enter student's last name: \")\n",
    "while lname == \"ZZZ\":\n",
    "    print(\"Error... please enter a valid last name\")\n",
    "    exit() \n",
    "else:\n",
    "    pass\n",
    "\n",
    "fname = input(\"Enter student's first name: \")\n",
    "GPA = float(input(\"Enter a student's GPA: \"))\n",
    "\n",
    "if GPA >= 3.5:\n",
    "    print(\"Student has made the Dean's List.\")\n",
    "elif GPA >= 3.25:\n",
    "    print(\"Student has made the Honor Roll.\")"
   ]
  },
  {
   "cell_type": "code",
   "execution_count": 4,
   "id": "d32e1e07",
   "metadata": {},
   "outputs": [
    {
     "name": "stdout",
     "output_type": "stream",
     "text": [
      "Enter student's last name: Smith\n",
      "Enter student's first name: John\n",
      "Enter a student's GPA: 3.11\n"
     ]
    }
   ],
   "source": [
    "# Program name: EmmettBuck_Kira_M02-Lab\n",
    "# Author: Kira Emmett Buck\n",
    "# Date: 6/17/2022\n",
    "# Summary: Accept student names and GPAs and test if student qualifies\n",
    "#   for Dean's List or Honor Roll\n",
    "# Variables:\n",
    "#   lname: student's last name (str)\n",
    "#   fname: student's first name (str)\n",
    "#   GPA: student's GPA (float)\n",
    "\n",
    "lname = input(\"Enter student's last name: \")\n",
    "while lname == \"ZZZ\":\n",
    "    print(\"Error... please enter a valid last name\")\n",
    "    exit() \n",
    "else:\n",
    "    pass\n",
    "\n",
    "fname = input(\"Enter student's first name: \")\n",
    "GPA = float(input(\"Enter a student's GPA: \"))\n",
    "\n",
    "if GPA >= 3.5:\n",
    "    print(\"Student has made the Dean's List.\")\n",
    "elif GPA >= 3.25:\n",
    "    print(\"Student has made the Honor Roll.\")"
   ]
  },
  {
   "cell_type": "code",
   "execution_count": null,
   "id": "e4f66a4c",
   "metadata": {},
   "outputs": [
    {
     "name": "stdout",
     "output_type": "stream",
     "text": [
      "Enter student's last name: ZZZ\n"
     ]
    }
   ],
   "source": [
    "# Program name: EmmettBuck_Kira_M02-Lab\n",
    "# Author: Kira Emmett Buck\n",
    "# Date: 6/17/2022\n",
    "# Summary: Accept student names and GPAs and test if student qualifies\n",
    "#   for Dean's List or Honor Roll\n",
    "# Variables:\n",
    "#   lname: student's last name (str)\n",
    "#   fname: student's first name (str)\n",
    "#   GPA: student's GPA (float)\n",
    "\n",
    "lname = input(\"Enter student's last name: \")\n",
    "while lname == \"ZZZ\":\n",
    "    exit() \n",
    "else:\n",
    "    pass\n",
    "\n",
    "fname = input(\"Enter student's first name: \")\n",
    "GPA = float(input(\"Enter a student's GPA: \"))\n",
    "\n",
    "if GPA >= 3.5:\n",
    "    print(\"Student has made the Dean's List.\")\n",
    "elif GPA >= 3.25:\n",
    "    print(\"Student has made the Honor Roll.\")"
   ]
  },
  {
   "cell_type": "code",
   "execution_count": null,
   "id": "3740a2ce",
   "metadata": {},
   "outputs": [],
   "source": []
  }
 ],
 "metadata": {
  "kernelspec": {
   "display_name": "Python 3 (ipykernel)",
   "language": "python",
   "name": "python3"
  },
  "language_info": {
   "codemirror_mode": {
    "name": "ipython",
    "version": 3
   },
   "file_extension": ".py",
   "mimetype": "text/x-python",
   "name": "python",
   "nbconvert_exporter": "python",
   "pygments_lexer": "ipython3",
   "version": "3.9.12"
  }
 },
 "nbformat": 4,
 "nbformat_minor": 5
}
